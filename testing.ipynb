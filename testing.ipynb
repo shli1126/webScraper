{
 "cells": [
  {
   "cell_type": "code",
   "execution_count": 56,
   "metadata": {},
   "outputs": [],
   "source": [
    "from bs4 import BeautifulSoup\n",
    "import urllib.request\n",
    "import requests\n",
    "import math"
   ]
  },
  {
   "cell_type": "code",
   "execution_count": 57,
   "metadata": {},
   "outputs": [],
   "source": [
    "my_url = 'https://finance.yahoo.com/most-active?count=25&offset=0'\n",
    "headers = {'User-Agent': 'Mozilla/5.0 (Windows NT 10.0; Win64; x64) AppleWebKit/537.36 (KHTML, like Gecko) Chrome/108.0.0.0 Safari/537.36'}\n",
    "req = urllib.request.Request(url=my_url, headers=headers)\n",
    "with urllib.request.urlopen(req) as response:\n",
    "    page_html = response.read()"
   ]
  },
  {
   "cell_type": "code",
   "execution_count": 58,
   "metadata": {},
   "outputs": [
    {
     "name": "stdout",
     "output_type": "stream",
     "text": [
      "6\n"
     ]
    }
   ],
   "source": [
    "soup = BeautifulSoup(page_html, 'lxml')\n",
    "page_info = soup.find('span', class_ = 'Mstart(15px) Fw(500) Fz(s)').span.text\n",
    "total = int(page_info.split()[-2])\n",
    "page_num = math.ceil(total/25)\n",
    "print(page_num)"
   ]
  },
  {
   "cell_type": "code",
   "execution_count": 61,
   "metadata": {},
   "outputs": [],
   "source": [
    "with open(\"AllStock.txt\", \"w\") as file:\n",
    "    for idx in range(page_num): \n",
    "        url = f\"https://finance.yahoo.com/most-active?count=25&offset={idx*25}\"\n",
    "        headers = {'User-Agent': 'Mozilla/5.0 (Windows NT 10.0; Win64; x64) AppleWebKit/537.36 (KHTML, like Gecko) Chrome/108.0.0.0 Safari/537.36'}\n",
    "        req = urllib.request.Request(url=url, headers=headers)\n",
    "        with urllib.request.urlopen(req) as response:\n",
    "            page_html = response.read()\n",
    "        soup = BeautifulSoup(page_html, 'lxml')\n",
    "        stock_table = soup.find('tbody')\n",
    "        stocks = stock_table.find_all('tr')\n",
    "\n",
    "        for stock in stocks:\n",
    "            path = stock.find_all('td')[0].find('a')['href']\n",
    "            final_url = f\"https://finance.yahoo.com{path}\"\n",
    "            file.write(f\"Company name: {stock.find_all('td')[1].text} \\n\")\n",
    "            file.write(f\"Price: {stock.find_all('td')[2].text} \\n\")\n",
    "            file.write(f\"Change: {stock.find_all('td')[3].text} \\n\")\n",
    "            file.write(f\"%Change: {stock.find_all('td')[4].text} \\n\")\n",
    "            file.write(f\"Volume: {stock.find_all('td')[5].text} \\n\")\n",
    "            file.write(f\"Avg Vol(3 month): {stock.find_all('td')[6].text} \\n\")\n",
    "            file.write(f\"Market Cap: {stock.find_all('td')[7].text} \\n\")\n",
    "            file.write(f\"PE Ratio (TTM): {stock.find_all('td')[8].text} \\n\")\n",
    "            file.write(f\"Url: {final_url} \\n\")\n",
    "            file.write('\\n')"
   ]
  },
  {
   "cell_type": "code",
   "execution_count": 62,
   "metadata": {},
   "outputs": [
    {
     "name": "stdout",
     "output_type": "stream",
     "text": [
      "5\n"
     ]
    }
   ],
   "source": []
  }
 ],
 "metadata": {
  "kernelspec": {
   "display_name": "Python 3",
   "language": "python",
   "name": "python3"
  },
  "language_info": {
   "codemirror_mode": {
    "name": "ipython",
    "version": 3
   },
   "file_extension": ".py",
   "mimetype": "text/x-python",
   "name": "python",
   "nbconvert_exporter": "python",
   "pygments_lexer": "ipython3",
   "version": "3.11.0 (main, Oct 24 2022, 18:26:48) [MSC v.1933 64 bit (AMD64)]"
  },
  "orig_nbformat": 4,
  "vscode": {
   "interpreter": {
    "hash": "c261aea317cc0286b3b3261fbba9abdec21eaa57589985bb7a274bf54d6cc0a7"
   }
  }
 },
 "nbformat": 4,
 "nbformat_minor": 2
}
